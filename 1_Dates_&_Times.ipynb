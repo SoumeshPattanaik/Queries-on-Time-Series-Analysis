{
  "nbformat": 4,
  "nbformat_minor": 0,
  "metadata": {
    "colab": {
      "name": "1.Dates & Times.ipynb",
      "provenance": []
    },
    "kernelspec": {
      "name": "python3",
      "display_name": "Python 3"
    },
    "language_info": {
      "name": "python"
    }
  },
  "cells": [
    {
      "cell_type": "code",
      "metadata": {
        "id": "sjae8xPawMkT"
      },
      "source": [
        "import pandas as pd\n",
        "import numpy as np"
      ],
      "execution_count": null,
      "outputs": []
    },
    {
      "cell_type": "code",
      "metadata": {
        "colab": {
          "base_uri": "https://localhost:8080/"
        },
        "id": "igCyGsJ4wT39",
        "outputId": "90f9f78c-3b81-4b26-be99-28e65fd3c385"
      },
      "source": [
        "# Times\n",
        "rng = pd.date_range('2021 Jul 10',periods=10,freq='5H')\n",
        "rng"
      ],
      "execution_count": null,
      "outputs": [
        {
          "output_type": "execute_result",
          "data": {
            "text/plain": [
              "DatetimeIndex(['2021-07-10 00:00:00', '2021-07-10 05:00:00',\n",
              "               '2021-07-10 10:00:00', '2021-07-10 15:00:00',\n",
              "               '2021-07-10 20:00:00', '2021-07-11 01:00:00',\n",
              "               '2021-07-11 06:00:00', '2021-07-11 11:00:00',\n",
              "               '2021-07-11 16:00:00', '2021-07-11 21:00:00'],\n",
              "              dtype='datetime64[ns]', freq='5H')"
            ]
          },
          "metadata": {
            "tags": []
          },
          "execution_count": 4
        }
      ]
    },
    {
      "cell_type": "code",
      "metadata": {
        "colab": {
          "base_uri": "https://localhost:8080/"
        },
        "id": "UEJ9uGK1wwNp",
        "outputId": "167d2ac2-a2b6-4c2e-d45d-7b9f29755b4f"
      },
      "source": [
        "# TIME STAMPS\n",
        "pd.Timestamp('2021 Jul 10')"
      ],
      "execution_count": null,
      "outputs": [
        {
          "output_type": "execute_result",
          "data": {
            "text/plain": [
              "Timestamp('2021-07-10 00:00:00')"
            ]
          },
          "metadata": {
            "tags": []
          },
          "execution_count": 10
        }
      ]
    },
    {
      "cell_type": "code",
      "metadata": {
        "colab": {
          "base_uri": "https://localhost:8080/"
        },
        "id": "NKGeL4iYxS0_",
        "outputId": "167f80dc-1eee-4fcf-9f26-59c033477f11"
      },
      "source": [
        "pd.Timestamp('2021-07-10')"
      ],
      "execution_count": null,
      "outputs": [
        {
          "output_type": "execute_result",
          "data": {
            "text/plain": [
              "Timestamp('2021-07-10 00:00:00')"
            ]
          },
          "metadata": {
            "tags": []
          },
          "execution_count": 11
        }
      ]
    },
    {
      "cell_type": "code",
      "metadata": {
        "colab": {
          "base_uri": "https://localhost:8080/"
        },
        "id": "iIgAtGVqx8iE",
        "outputId": "7bf9108e-ac57-4719-fab1-0fe92977dbf8"
      },
      "source": [
        "pd.Timestamp('2021-07-10 10')"
      ],
      "execution_count": null,
      "outputs": [
        {
          "output_type": "execute_result",
          "data": {
            "text/plain": [
              "Timestamp('2021-07-10 10:00:00')"
            ]
          },
          "metadata": {
            "tags": []
          },
          "execution_count": 12
        }
      ]
    },
    {
      "cell_type": "code",
      "metadata": {
        "colab": {
          "base_uri": "https://localhost:8080/"
        },
        "id": "AphztAMcx_Fy",
        "outputId": "bfbf0259-3bb5-477a-bbf6-9375217f856f"
      },
      "source": [
        "pd.Timestamp('2021-07-10 19:48:43')"
      ],
      "execution_count": null,
      "outputs": [
        {
          "output_type": "execute_result",
          "data": {
            "text/plain": [
              "Timestamp('2021-07-10 19:48:43')"
            ]
          },
          "metadata": {
            "tags": []
          },
          "execution_count": 14
        }
      ]
    },
    {
      "cell_type": "code",
      "metadata": {
        "colab": {
          "base_uri": "https://localhost:8080/",
          "height": 35
        },
        "id": "gTdugAjsyFvd",
        "outputId": "165cf4c7-6140-4932-8fc4-11b0ac83f6a3"
      },
      "source": [
        "# Day Name\n",
        "day = pd.Timestamp('2021-07-10')\n",
        "day.day_name()"
      ],
      "execution_count": null,
      "outputs": [
        {
          "output_type": "execute_result",
          "data": {
            "application/vnd.google.colaboratory.intrinsic+json": {
              "type": "string"
            },
            "text/plain": [
              "'Saturday'"
            ]
          },
          "metadata": {
            "tags": []
          },
          "execution_count": 20
        }
      ]
    },
    {
      "cell_type": "code",
      "metadata": {
        "colab": {
          "base_uri": "https://localhost:8080/",
          "height": 35
        },
        "id": "L4lifE2VyvWG",
        "outputId": "28cf2e01-b9bc-425e-aae4-4a116861633e"
      },
      "source": [
        "# Adding one day\n",
        "nxt_day = day + pd.Timedelta('1 day')\n",
        "nxt_day.day_name()"
      ],
      "execution_count": null,
      "outputs": [
        {
          "output_type": "execute_result",
          "data": {
            "application/vnd.google.colaboratory.intrinsic+json": {
              "type": "string"
            },
            "text/plain": [
              "'Sunday'"
            ]
          },
          "metadata": {
            "tags": []
          },
          "execution_count": 21
        }
      ]
    },
    {
      "cell_type": "code",
      "metadata": {
        "colab": {
          "base_uri": "https://localhost:8080/"
        },
        "id": "HmeUSQZ1y8AQ",
        "outputId": "b0912fda-4aac-4f40-c6d8-9acff6db67d3"
      },
      "source": [
        "# TIME SPANS\n",
        "pd.Period('2021-07-10') # Days"
      ],
      "execution_count": null,
      "outputs": [
        {
          "output_type": "execute_result",
          "data": {
            "text/plain": [
              "Period('2021-07-10', 'D')"
            ]
          },
          "metadata": {
            "tags": []
          },
          "execution_count": 24
        }
      ]
    },
    {
      "cell_type": "code",
      "metadata": {
        "colab": {
          "base_uri": "https://localhost:8080/"
        },
        "id": "jySZ9bDY0FQo",
        "outputId": "362f424d-ab40-41c3-c83b-065394f9a2f1"
      },
      "source": [
        "pd.Period('2021-07') # Months"
      ],
      "execution_count": null,
      "outputs": [
        {
          "output_type": "execute_result",
          "data": {
            "text/plain": [
              "Period('2021-07', 'M')"
            ]
          },
          "metadata": {
            "tags": []
          },
          "execution_count": 25
        }
      ]
    },
    {
      "cell_type": "code",
      "metadata": {
        "colab": {
          "base_uri": "https://localhost:8080/"
        },
        "id": "t6D48rUF0SnK",
        "outputId": "b3fbf419-cbeb-4e9c-ef38-816ba738fc8b"
      },
      "source": [
        "pd.Period('2021') # Years"
      ],
      "execution_count": null,
      "outputs": [
        {
          "output_type": "execute_result",
          "data": {
            "text/plain": [
              "Period('2021', 'A-DEC')"
            ]
          },
          "metadata": {
            "tags": []
          },
          "execution_count": 26
        }
      ]
    },
    {
      "cell_type": "code",
      "metadata": {
        "colab": {
          "base_uri": "https://localhost:8080/"
        },
        "id": "Bz7e2Git0WeG",
        "outputId": "3cce99ef-0b10-4c35-fee7-114faf2ae728"
      },
      "source": [
        "pd.Period('2021-07-10 19') # Hours"
      ],
      "execution_count": null,
      "outputs": [
        {
          "output_type": "execute_result",
          "data": {
            "text/plain": [
              "Period('2021-07-10 19:00', 'H')"
            ]
          },
          "metadata": {
            "tags": []
          },
          "execution_count": 27
        }
      ]
    },
    {
      "cell_type": "code",
      "metadata": {
        "colab": {
          "base_uri": "https://localhost:8080/"
        },
        "id": "jnn3IPWq0b9N",
        "outputId": "1b7ec046-a8e3-4506-d8c7-66e5fb847620"
      },
      "source": [
        "pd.Period('2021-07-10 19:58 ') # Time"
      ],
      "execution_count": null,
      "outputs": [
        {
          "output_type": "execute_result",
          "data": {
            "text/plain": [
              "Period('2021-07-10 19:58', 'T')"
            ]
          },
          "metadata": {
            "tags": []
          },
          "execution_count": 30
        }
      ]
    },
    {
      "cell_type": "code",
      "metadata": {
        "colab": {
          "base_uri": "https://localhost:8080/"
        },
        "id": "ZDzomNzQ0hEB",
        "outputId": "8652ece5-5f67-42f6-d050-d7ea53b38b1e"
      },
      "source": [
        "pd.Period('2021-07-10 19 19:58:07') # Seconds"
      ],
      "execution_count": null,
      "outputs": [
        {
          "output_type": "execute_result",
          "data": {
            "text/plain": [
              "Period('2021-07-10 19:58:07', 'S')"
            ]
          },
          "metadata": {
            "tags": []
          },
          "execution_count": 33
        }
      ]
    },
    {
      "cell_type": "code",
      "metadata": {
        "colab": {
          "base_uri": "https://localhost:8080/"
        },
        "id": "o6MUZcg_0qFE",
        "outputId": "c1e8f4f5-b6ba-4af5-eab3-27fd253e1286"
      },
      "source": [
        "# TIME OFFSETS\n",
        "pd.Timedelta('5 day')"
      ],
      "execution_count": null,
      "outputs": [
        {
          "output_type": "execute_result",
          "data": {
            "text/plain": [
              "Timedelta('5 days 00:00:00')"
            ]
          },
          "metadata": {
            "tags": []
          },
          "execution_count": 37
        }
      ]
    },
    {
      "cell_type": "code",
      "metadata": {
        "colab": {
          "base_uri": "https://localhost:8080/"
        },
        "id": "4Umt8K0e0yBN",
        "outputId": "10925f69-da7a-44bb-94d6-a1855cbc55ca"
      },
      "source": [
        "pd.Period('2021-07-10 20:05') + pd.Timedelta('1day')"
      ],
      "execution_count": null,
      "outputs": [
        {
          "output_type": "execute_result",
          "data": {
            "text/plain": [
              "Period('2021-07-11 20:05', 'T')"
            ]
          },
          "metadata": {
            "tags": []
          },
          "execution_count": 39
        }
      ]
    },
    {
      "cell_type": "code",
      "metadata": {
        "colab": {
          "base_uri": "https://localhost:8080/"
        },
        "id": "rpQT-7Il18B9",
        "outputId": "68b9a376-2d49-45db-d4b8-ab42546cf74b"
      },
      "source": [
        "pd.Timestamp('2021-07-10 20:05') + pd.Timedelta('1day')"
      ],
      "execution_count": null,
      "outputs": [
        {
          "output_type": "execute_result",
          "data": {
            "text/plain": [
              "Timestamp('2021-07-11 20:05:00')"
            ]
          },
          "metadata": {
            "tags": []
          },
          "execution_count": 40
        }
      ]
    },
    {
      "cell_type": "code",
      "metadata": {
        "colab": {
          "base_uri": "https://localhost:8080/"
        },
        "id": "hQXCBXZP2Joa",
        "outputId": "a0476b7d-168a-436a-ea80-e2962684704a"
      },
      "source": [
        "pd.Timestamp('2021-07-10 20:05') + pd.Timedelta('15 ns')"
      ],
      "execution_count": null,
      "outputs": [
        {
          "output_type": "execute_result",
          "data": {
            "text/plain": [
              "Timestamp('2021-07-10 20:05:00.000000015')"
            ]
          },
          "metadata": {
            "tags": []
          },
          "execution_count": 41
        }
      ]
    },
    {
      "cell_type": "code",
      "metadata": {
        "colab": {
          "base_uri": "https://localhost:8080/"
        },
        "id": "5SKzi4JD2PH4",
        "outputId": "d93288ca-1421-495f-c4b1-b71601fc3c9f"
      },
      "source": [
        "# Fancy Frequency Setting\n",
        "# Only business days\n",
        "pd.period_range('2021-07-10 20:05',freq='B',periods=10)"
      ],
      "execution_count": null,
      "outputs": [
        {
          "output_type": "execute_result",
          "data": {
            "text/plain": [
              "PeriodIndex(['2021-07-12', '2021-07-13', '2021-07-14', '2021-07-15',\n",
              "             '2021-07-16', '2021-07-19', '2021-07-20', '2021-07-21',\n",
              "             '2021-07-22', '2021-07-23'],\n",
              "            dtype='period[B]', freq='B')"
            ]
          },
          "metadata": {
            "tags": []
          },
          "execution_count": 42
        }
      ]
    },
    {
      "cell_type": "code",
      "metadata": {
        "colab": {
          "base_uri": "https://localhost:8080/"
        },
        "id": "fyTMFwTE3Lxj",
        "outputId": "3181dacd-1dad-4e35-8150-52bd88ba0f34"
      },
      "source": [
        "# It's possible to combine frequencies. What if you want to advance by 25 hours each day. What are the 2 ways to do it?\n",
        "p1 = pd.period_range('2021-07-10 20:05',freq='25H',periods=10)\n",
        "p1"
      ],
      "execution_count": null,
      "outputs": [
        {
          "output_type": "execute_result",
          "data": {
            "text/plain": [
              "PeriodIndex(['2021-07-10 20:00', '2021-07-11 21:00', '2021-07-12 22:00',\n",
              "             '2021-07-13 23:00', '2021-07-15 00:00', '2021-07-16 01:00',\n",
              "             '2021-07-17 02:00', '2021-07-18 03:00', '2021-07-19 04:00',\n",
              "             '2021-07-20 05:00'],\n",
              "            dtype='period[25H]', freq='25H')"
            ]
          },
          "metadata": {
            "tags": []
          },
          "execution_count": 44
        }
      ]
    },
    {
      "cell_type": "code",
      "metadata": {
        "colab": {
          "base_uri": "https://localhost:8080/"
        },
        "id": "tn-8kSPV3klV",
        "outputId": "5d307156-bb2b-4f1f-9ce4-8008f68d2bec"
      },
      "source": [
        "p2 = pd.period_range('2021-07-10 20:05',freq='1D1H24min',periods=10)\n",
        "p2"
      ],
      "execution_count": null,
      "outputs": [
        {
          "output_type": "execute_result",
          "data": {
            "text/plain": [
              "PeriodIndex(['2021-07-10 20:05', '2021-07-11 21:29', '2021-07-12 22:53',\n",
              "             '2021-07-14 00:17', '2021-07-15 01:41', '2021-07-16 03:05',\n",
              "             '2021-07-17 04:29', '2021-07-18 05:53', '2021-07-19 07:17',\n",
              "             '2021-07-20 08:41'],\n",
              "            dtype='period[1524T]', freq='1524T')"
            ]
          },
          "metadata": {
            "tags": []
          },
          "execution_count": 47
        }
      ]
    },
    {
      "cell_type": "code",
      "metadata": {
        "colab": {
          "base_uri": "https://localhost:8080/"
        },
        "id": "n-Quce8g31nC",
        "outputId": "8d24b693-5795-429f-9d2f-177df9b7366e"
      },
      "source": [
        "# INDEXING WITH TIME OBJECTS\n",
        "# These objects can be used for indices\n",
        "rng = pd.date_range('2021 July 10',periods=10,freq='D')\n",
        "rng\n",
        "pd.Series(range(len(rng)),index=rng)"
      ],
      "execution_count": null,
      "outputs": [
        {
          "output_type": "execute_result",
          "data": {
            "text/plain": [
              "2021-07-10    0\n",
              "2021-07-11    1\n",
              "2021-07-12    2\n",
              "2021-07-13    3\n",
              "2021-07-14    4\n",
              "2021-07-15    5\n",
              "2021-07-16    6\n",
              "2021-07-17    7\n",
              "2021-07-18    8\n",
              "2021-07-19    9\n",
              "Freq: D, dtype: int64"
            ]
          },
          "metadata": {
            "tags": []
          },
          "execution_count": 48
        }
      ]
    },
    {
      "cell_type": "code",
      "metadata": {
        "colab": {
          "base_uri": "https://localhost:8080/"
        },
        "id": "Y9lsOcl85mEv",
        "outputId": "ac3ae758-88c5-4b85-df24-ab916431135f"
      },
      "source": [
        "periods = [pd.Period('2021-07'),pd.Period('2021-08'),pd.Period('2021-09')]\n",
        "ts = pd.Series(np.random.randn(len(periods)),index=periods)\n",
        "ts"
      ],
      "execution_count": null,
      "outputs": [
        {
          "output_type": "execute_result",
          "data": {
            "text/plain": [
              "2021-07    0.787605\n",
              "2021-08   -0.627392\n",
              "2021-09   -0.331592\n",
              "Freq: M, dtype: float64"
            ]
          },
          "metadata": {
            "tags": []
          },
          "execution_count": 49
        }
      ]
    },
    {
      "cell_type": "code",
      "metadata": {
        "colab": {
          "base_uri": "https://localhost:8080/"
        },
        "id": "b4DtUOyO6021",
        "outputId": "0a4ac710-a030-4236-aa39-c1b322fa77ce"
      },
      "source": [
        "# Index of ts\n",
        "type(ts.index)"
      ],
      "execution_count": null,
      "outputs": [
        {
          "output_type": "execute_result",
          "data": {
            "text/plain": [
              "pandas.core.indexes.period.PeriodIndex"
            ]
          },
          "metadata": {
            "tags": []
          },
          "execution_count": 50
        }
      ]
    },
    {
      "cell_type": "code",
      "metadata": {
        "colab": {
          "base_uri": "https://localhost:8080/"
        },
        "id": "SuZOPOXs69T2",
        "outputId": "5cb190a6-8125-4c69-cfe0-699a4df6c0ce"
      },
      "source": [
        "# Timestamped data can be convereted to period indices with to_period and vice versa with to_timestamp\n",
        "ts = pd.Series(range(10),pd.date_range('10-07-2021 20:05',periods=10,freq='H'))\n",
        "ts"
      ],
      "execution_count": null,
      "outputs": [
        {
          "output_type": "execute_result",
          "data": {
            "text/plain": [
              "2021-10-07 20:05:00    0\n",
              "2021-10-07 21:05:00    1\n",
              "2021-10-07 22:05:00    2\n",
              "2021-10-07 23:05:00    3\n",
              "2021-10-08 00:05:00    4\n",
              "2021-10-08 01:05:00    5\n",
              "2021-10-08 02:05:00    6\n",
              "2021-10-08 03:05:00    7\n",
              "2021-10-08 04:05:00    8\n",
              "2021-10-08 05:05:00    9\n",
              "Freq: H, dtype: int64"
            ]
          },
          "metadata": {
            "tags": []
          },
          "execution_count": 53
        }
      ]
    },
    {
      "cell_type": "code",
      "metadata": {
        "colab": {
          "base_uri": "https://localhost:8080/"
        },
        "id": "bFIf3D1d7BF9",
        "outputId": "940a92fa-cf66-4cee-8b5c-cda15b604ccd"
      },
      "source": [
        "ts_period = ts.to_period()\n",
        "ts_period"
      ],
      "execution_count": null,
      "outputs": [
        {
          "output_type": "execute_result",
          "data": {
            "text/plain": [
              "2021-10-07 20:00    0\n",
              "2021-10-07 21:00    1\n",
              "2021-10-07 22:00    2\n",
              "2021-10-07 23:00    3\n",
              "2021-10-08 00:00    4\n",
              "2021-10-08 01:00    5\n",
              "2021-10-08 02:00    6\n",
              "2021-10-08 03:00    7\n",
              "2021-10-08 04:00    8\n",
              "2021-10-08 05:00    9\n",
              "Freq: H, dtype: int64"
            ]
          },
          "metadata": {
            "tags": []
          },
          "execution_count": 54
        }
      ]
    },
    {
      "cell_type": "code",
      "metadata": {
        "colab": {
          "base_uri": "https://localhost:8080/"
        },
        "id": "LwFbKvQ87q2w",
        "outputId": "65b904c3-b7fb-4acc-df90-743dd4bb1df9"
      },
      "source": [
        "# Overlaping with time periods\n",
        "ts_period['2021-07-10 20:05':'2021-07-12 12:00']\n",
        "ts_period"
      ],
      "execution_count": null,
      "outputs": [
        {
          "output_type": "execute_result",
          "data": {
            "text/plain": [
              "2021-10-07 20:00    0\n",
              "2021-10-07 21:00    1\n",
              "2021-10-07 22:00    2\n",
              "2021-10-07 23:00    3\n",
              "2021-10-08 00:00    4\n",
              "2021-10-08 01:00    5\n",
              "2021-10-08 02:00    6\n",
              "2021-10-08 03:00    7\n",
              "2021-10-08 04:00    8\n",
              "2021-10-08 05:00    9\n",
              "Freq: H, dtype: int64"
            ]
          },
          "metadata": {
            "tags": []
          },
          "execution_count": 61
        }
      ]
    },
    {
      "cell_type": "code",
      "metadata": {
        "colab": {
          "base_uri": "https://localhost:8080/"
        },
        "id": "sCPKzpbQAtlw",
        "outputId": "c347b949-9daf-484a-e1f0-7fcc6f7aaa98"
      },
      "source": [
        "# Concept of including Timestamps\n",
        "ts['2021-07-10 20:05':'2021-07-10 23:59']\n",
        "ts"
      ],
      "execution_count": null,
      "outputs": [
        {
          "output_type": "execute_result",
          "data": {
            "text/plain": [
              "2021-10-07 20:05:00    0\n",
              "2021-10-07 21:05:00    1\n",
              "2021-10-07 22:05:00    2\n",
              "2021-10-07 23:05:00    3\n",
              "2021-10-08 00:05:00    4\n",
              "2021-10-08 01:05:00    5\n",
              "2021-10-08 02:05:00    6\n",
              "2021-10-08 03:05:00    7\n",
              "2021-10-08 04:05:00    8\n",
              "2021-10-08 05:05:00    9\n",
              "Freq: H, dtype: int64"
            ]
          },
          "metadata": {
            "tags": []
          },
          "execution_count": 66
        }
      ]
    },
    {
      "cell_type": "code",
      "metadata": {
        "id": "k2kgatj7BMnG"
      },
      "source": [
        ""
      ],
      "execution_count": null,
      "outputs": []
    }
  ]
}